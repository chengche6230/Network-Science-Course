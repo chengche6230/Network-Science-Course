{
 "cells": [
  {
   "cell_type": "code",
   "execution_count": 2,
   "metadata": {},
   "outputs": [],
   "source": [
    "from igraph import *\n",
    "import numpy as np\n",
    "import matplotlib.pyplot as plt"
   ]
  },
  {
   "cell_type": "code",
   "execution_count": 19,
   "metadata": {},
   "outputs": [
    {
     "name": "stdout",
     "output_type": "stream",
     "text": [
      "n = 3 k = 2, eigenvector = [1. 1. 1.]\n",
      "n = 4 k = 2, eigenvector = [1. 1. 1. 1.]\n",
      "n = 4 k = 2, pagerank = [0.25, 0.24999999999999994, 0.24999999999999994, 0.25]\n",
      "n = 4 k = 3, pagerank = [0.25000000000000006, 0.25, 0.25, 0.25]\n",
      "n = 5 k = 2, eigenvector = [1. 1. 1. 1. 1.]\n",
      "n = 5 k = 2, pagerank = [0.19999999999999998, 0.19999999999999998, 0.2, 0.19999999999999998, 0.2]\n",
      "n = 5 k = 3 cannot form a network.\n",
      "n = 5 k = 4, eigenvector = [1. 1. 1. 1. 1.]\n",
      "n = 5 k = 4, pagerank = [0.2, 0.2, 0.19999999999999998, 0.2, 0.2]\n",
      "n = 6 k = 2, eigenvector = [1. 1. 1. 1. 1. 1.]\n",
      "n = 6 k = 3, eigenvector = [1. 1. 1. 1. 1. 1.]\n",
      "n = 6 k = 3, pagerank = [0.16666666666666669, 0.16666666666666669, 0.16666666666666666, 0.16666666666666669, 0.16666666666666666, 0.16666666666666666]\n",
      "n = 6 k = 4, eigenvector = [1. 1. 1. 1. 1. 1.]\n",
      "n = 6 k = 5, eigenvector = [1. 1. 1. 1. 1. 1.]\n",
      "n = 6 k = 5, pagerank = [0.16666666666666666, 0.1666666666666667, 0.1666666666666667, 0.16666666666666666, 0.16666666666666663, 0.16666666666666663]\n",
      "n = 7 k = 2, eigenvector = [1. 1. 1. 1. 1. 1. 1.]\n",
      "n = 7 k = 2, pagerank = [0.14285714285714282, 0.14285714285714285, 0.14285714285714285, 0.14285714285714282, 0.14285714285714282, 0.14285714285714285, 0.14285714285714282]\n",
      "n = 7 k = 3 cannot form a network.\n",
      "n = 7 k = 4, eigenvector = [1. 1. 1. 1. 1. 1. 1.]\n",
      "n = 7 k = 4, betweenness = [1. 1. 1. 1. 1. 1. 1.]\n",
      "n = 7 k = 4, pagerank = [0.14285714285714285, 0.14285714285714285, 0.14285714285714288, 0.14285714285714288, 0.14285714285714288, 0.14285714285714288, 0.14285714285714288]\n",
      "n = 7 k = 5 cannot form a network.\n",
      "n = 7 k = 6, eigenvector = [1. 1. 1. 1. 1. 1. 1.]\n",
      "n = 7 k = 6, pagerank = [0.14285714285714285, 0.14285714285714288, 0.14285714285714288, 0.14285714285714285, 0.14285714285714285, 0.14285714285714285, 0.14285714285714285]\n",
      "n = 8 k = 2, eigenvector = [0.99999836 1.         1.         0.99999836 1.         0.99999836\n",
      " 0.99999836 0.99999836]\n",
      "n = 8 k = 2, closeness = [0.66666667 1.         1.         0.66666667 1.         0.66666667\n",
      " 0.66666667 0.66666667]\n",
      "n = 8 k = 2, harmonic = [0.42857143 0.28571429 0.28571429 0.42857143 0.28571429 0.42857143\n",
      " 0.42857143 0.42857143]\n",
      "n = 8 k = 2, betweenness = [1. 0. 0. 1. 0. 1. 1. 1.]\n",
      "n = 8 k = 2, pagerank = [0.12500000000000003, 0.12499999999999999, 0.12499999999999999, 0.12500000000000003, 0.12499999999999999, 0.125, 0.12500000000000003, 0.125]\n",
      "n = 8 k = 3, eigenvector = [1. 1. 1. 1. 1. 1. 1. 1.]\n",
      "n = 8 k = 3, betweenness = [2.         2.33333333 2.33333333 2.         1.5        1.5\n",
      " 2.33333333 2.        ]\n",
      "n = 8 k = 3, pagerank = [0.12499999999999999, 0.12499999999999999, 0.12499999999999997, 0.12499999999999997, 0.12499999999999999, 0.125, 0.125, 0.125]\n",
      "n = 8 k = 4, eigenvector = [1. 1. 1. 1. 1. 1. 1. 1.]\n",
      "n = 8 k = 4, betweenness = [1.5        1.16666667 1.5        1.5        1.83333333 1.83333333\n",
      " 1.16666667 1.5       ]\n",
      "n = 8 k = 4, pagerank = [0.125, 0.12499999999999997, 0.125, 0.12499999999999999, 0.125, 0.125, 0.12499999999999999, 0.125]\n",
      "n = 8 k = 5, eigenvector = [1. 1. 1. 1. 1. 1. 1. 1.]\n",
      "n = 8 k = 5, pagerank = [0.12499999999999999, 0.12499999999999999, 0.12499999999999997, 0.12499999999999997, 0.12499999999999999, 0.12499999999999999, 0.12499999999999999, 0.12499999999999999]\n",
      "n = 8 k = 6, eigenvector = [1. 1. 1. 1. 1. 1. 1. 1.]\n",
      "n = 8 k = 6, pagerank = [0.125, 0.125, 0.125, 0.125, 0.125, 0.12499999999999997, 0.125, 0.12499999999999999]\n",
      "n = 8 k = 7, eigenvector = [1. 1. 1. 1. 1. 1. 1. 1.]\n",
      "n = 8 k = 7, pagerank = [0.12499999999999999, 0.125, 0.12499999999999999, 0.12500000000000003, 0.125, 0.125, 0.12500000000000003, 0.12500000000000003]\n"
     ]
    }
   ],
   "source": [
    "cen_name = ['eigenvector', 'closeness', 'harmonic', 'betweenness', 'pagerank']\n",
    "\n",
    "for n in range(3, 9):\n",
    "    for k in range(2, n):\n",
    "        g = Graph()\n",
    "        try:\n",
    "            g = g.K_Regular(n=n, k=k)\n",
    "        except:\n",
    "            print(f'n = {n} k = {k} cannot form a network.')\n",
    "            continue\n",
    "        # fig, ax = plt.subplots(figsize=(6, 4))\n",
    "        # plot(g, target=ax)\n",
    "\n",
    "        # Differen centrality measures\n",
    "        ec = np.array(g.eigenvector_centrality())\n",
    "        close = np.array(g.closeness())\n",
    "        harmonic = np.array(g.harmonic_centrality())\n",
    "        bt = np.array(g.betweenness())\n",
    "        pg = g.personalized_pagerank()\n",
    "\n",
    "        for name, cen in zip(cen_name, [ec, close, harmonic, bt, pg]):\n",
    "            if len(np.unique(cen)) > 1:\n",
    "                print(f'n = {n} k = {k}, {name} = {cen}')\n",
    "                # print(np.unique(cen))"
   ]
  },
  {
   "cell_type": "code",
   "execution_count": 18,
   "metadata": {},
   "outputs": [
    {
     "name": "stdout",
     "output_type": "stream",
     "text": [
      "[0.33333333 0.41666667 0.41666667 0.41666667 0.41666667 0.33333333\n",
      " 0.33333333]\n"
     ]
    },
    {
     "data": {
      "image/png": "[encoded data removed]",
      "text/plain": [
       "<Figure size 432x288 with 1 Axes>"
      ]
     },
     "metadata": {
      "needs_background": "light"
     },
     "output_type": "display_data"
    }
   ],
   "source": [
    "g = Graph()\n",
    "g = g.K_Regular(n=7, k=2)\n",
    "fig, ax = plt.subplots(figsize=(6, 4))\n",
    "plot(g, target=ax)\n",
    "harmonic = np.array(g.harmonic_centrality())\n",
    "print(harmonic)"
   ]
  }
 ],
 "metadata": {
  "interpreter": {
   "hash": "22c6df8416d99150f2220dbf1611e4fb62265fefa3bde7b85f317bcaabf8ed29"
  },
  "kernelspec": {
   "display_name": "Python 3.9.7 64-bit",
   "language": "python",
   "name": "python3"
  },
  "language_info": {
   "codemirror_mode": {
    "name": "ipython",
    "version": 3
   },
   "file_extension": ".py",
   "mimetype": "text/x-python",
   "name": "python",
   "nbconvert_exporter": "python",
   "pygments_lexer": "ipython3",
   "version": "3.9.7"
  },
  "orig_nbformat": 4
 },
 "nbformat": 4,
 "nbformat_minor": 2
}
